{
 "cells": [
  {
   "cell_type": "markdown",
   "metadata": {},
   "source": [
    "Stacked Bar Graph\n",
    "\n",
    "\n",
    "This is an example for creating a stacked bar plot.\n",
    "Use-case example of how the percent distribution of phenotypes differs for  different genes.\n",
    "Each % of each phenotype for 1 gene is stacked on top of the other phenotype so that it adds to 100% distribution. \n",
    "This shows a clear visual representation of how certain phenotypes are distributed and allows for easy visual comparison to other genes."
   ]
  },
  {
   "cell_type": "code",
   "execution_count": 1,
   "metadata": {},
   "outputs": [],
   "source": [
    "import numpy as np\n",
    "import pandas as pd\n",
    "import matplotlib.pyplot as plt\n",
    "\n",
    "plt.style.use('seaborn')"
   ]
  },
  {
   "cell_type": "code",
   "execution_count": 2,
   "metadata": {},
   "outputs": [
    {
     "data": {
      "text/html": [
       "<div>\n",
       "<style scoped>\n",
       "    .dataframe tbody tr th:only-of-type {\n",
       "        vertical-align: middle;\n",
       "    }\n",
       "\n",
       "    .dataframe tbody tr th {\n",
       "        vertical-align: top;\n",
       "    }\n",
       "\n",
       "    .dataframe thead th {\n",
       "        text-align: right;\n",
       "    }\n",
       "</style>\n",
       "<table border=\"1\" class=\"dataframe\">\n",
       "  <thead>\n",
       "    <tr style=\"text-align: right;\">\n",
       "      <th></th>\n",
       "      <th>phenotype</th>\n",
       "      <th>gene1</th>\n",
       "      <th>gene2</th>\n",
       "      <th>gene3</th>\n",
       "      <th>gene4</th>\n",
       "      <th>gene5</th>\n",
       "    </tr>\n",
       "  </thead>\n",
       "  <tbody>\n",
       "    <tr>\n",
       "      <th>0</th>\n",
       "      <td>Bipolar, &lt; 4 centrioles</td>\n",
       "      <td>1.052632</td>\n",
       "      <td>0.000000</td>\n",
       "      <td>1.041667</td>\n",
       "      <td>2.439024</td>\n",
       "      <td>5.263158</td>\n",
       "    </tr>\n",
       "    <tr>\n",
       "      <th>1</th>\n",
       "      <td>Bipolar, 4 centrioles</td>\n",
       "      <td>92.631579</td>\n",
       "      <td>38.181818</td>\n",
       "      <td>58.333333</td>\n",
       "      <td>52.032520</td>\n",
       "      <td>70.175439</td>\n",
       "    </tr>\n",
       "    <tr>\n",
       "      <th>2</th>\n",
       "      <td>Bipolar, &gt;4 centrioles</td>\n",
       "      <td>2.105263</td>\n",
       "      <td>36.363636</td>\n",
       "      <td>21.875000</td>\n",
       "      <td>30.894309</td>\n",
       "      <td>17.543860</td>\n",
       "    </tr>\n",
       "    <tr>\n",
       "      <th>3</th>\n",
       "      <td>Multipolar, &lt; 4 centrioles</td>\n",
       "      <td>0.000000</td>\n",
       "      <td>0.000000</td>\n",
       "      <td>0.000000</td>\n",
       "      <td>0.000000</td>\n",
       "      <td>0.000000</td>\n",
       "    </tr>\n",
       "    <tr>\n",
       "      <th>4</th>\n",
       "      <td>Multipolar, 4 centrioles</td>\n",
       "      <td>0.000000</td>\n",
       "      <td>0.000000</td>\n",
       "      <td>0.000000</td>\n",
       "      <td>0.000000</td>\n",
       "      <td>0.000000</td>\n",
       "    </tr>\n",
       "    <tr>\n",
       "      <th>5</th>\n",
       "      <td>Multipolar, &gt;4 centrioles</td>\n",
       "      <td>4.210526</td>\n",
       "      <td>25.454545</td>\n",
       "      <td>18.750000</td>\n",
       "      <td>14.634146</td>\n",
       "      <td>7.017544</td>\n",
       "    </tr>\n",
       "  </tbody>\n",
       "</table>\n",
       "</div>"
      ],
      "text/plain": [
       "                    phenotype      gene1      gene2      gene3      gene4  \\\n",
       "0     Bipolar, < 4 centrioles   1.052632   0.000000   1.041667   2.439024   \n",
       "1       Bipolar, 4 centrioles  92.631579  38.181818  58.333333  52.032520   \n",
       "2      Bipolar, >4 centrioles   2.105263  36.363636  21.875000  30.894309   \n",
       "3  Multipolar, < 4 centrioles   0.000000   0.000000   0.000000   0.000000   \n",
       "4    Multipolar, 4 centrioles   0.000000   0.000000   0.000000   0.000000   \n",
       "5   Multipolar, >4 centrioles   4.210526  25.454545  18.750000  14.634146   \n",
       "\n",
       "       gene5  \n",
       "0   5.263158  \n",
       "1  70.175439  \n",
       "2  17.543860  \n",
       "3   0.000000  \n",
       "4   0.000000  \n",
       "5   7.017544  "
      ]
     },
     "execution_count": 2,
     "metadata": {},
     "output_type": "execute_result"
    }
   ],
   "source": [
    "# Sample DataFrame\n",
    "df = pd.DataFrame([['Bipolar, < 4 centrioles', 1.052631579, 0.0, 1.041666667, 2.43902439, 5.263157895], ['Bipolar, 4 centrioles', 92.63157895, 38.18181818, 58.33333333, 52.03252033, 70.17543859999999], ['Bipolar, >4 centrioles', 2.105263158, 36.36363636, 21.875, 30.89430894, 17.54385965], ['Multipolar, < 4 centrioles', 0.0, 0.0, 0.0, 0.0, 0.0], ['Multipolar, 4 centrioles', 0.0, 0.0, 0.0, 0.0, 0.0], ['Multipolar, >4 centrioles', 4.210526316, 25.45454545, 18.75, 14.63414634, 7.01754386]])\n",
    "df.columns = ['phenotype','gene1','gene2','gene3','gene4','gene5'] \n",
    "df\n",
    "# df = pd.read_csv('phenotypes.csv')"
   ]
  },
  {
   "cell_type": "code",
   "execution_count": 4,
   "metadata": {},
   "outputs": [
    {
     "data": {
      "text/plain": [
       "{'Bipolar, < 4 centrioles': gene1    1.05263\n",
       " gene2          0\n",
       " gene3    1.04167\n",
       " gene4    2.43902\n",
       " gene5    5.26316\n",
       " Name: 0, dtype: object, 'Bipolar, 4 centrioles': gene1    92.6316\n",
       " gene2    38.1818\n",
       " gene3    58.3333\n",
       " gene4    52.0325\n",
       " gene5    70.1754\n",
       " Name: 1, dtype: object, 'Bipolar, >4 centrioles': gene1    2.10526\n",
       " gene2    36.3636\n",
       " gene3     21.875\n",
       " gene4    30.8943\n",
       " gene5    17.5439\n",
       " Name: 2, dtype: object, 'Multipolar, < 4 centrioles': gene1    0\n",
       " gene2    0\n",
       " gene3    0\n",
       " gene4    0\n",
       " gene5    0\n",
       " Name: 3, dtype: object, 'Multipolar, 4 centrioles': gene1    0\n",
       " gene2    0\n",
       " gene3    0\n",
       " gene4    0\n",
       " gene5    0\n",
       " Name: 4, dtype: object, 'Multipolar, >4 centrioles': gene1    4.21053\n",
       " gene2    25.4545\n",
       " gene3      18.75\n",
       " gene4    14.6341\n",
       " gene5    7.01754\n",
       " Name: 5, dtype: object}"
      ]
     },
     "execution_count": 4,
     "metadata": {},
     "output_type": "execute_result"
    }
   ],
   "source": [
    "# Creates a dictionary where each row corresponds to the phenotype(KEY). \n",
    "# Each KEY corresponds to the % distribution (VALUES) of each gene for that phenotype.\n",
    "genes_dict = {} \n",
    "for i in range(len(df.iloc[:,0])):\n",
    "    genes_dict[df.iloc[i,0]] = df.iloc[i,1:]\n",
    "genes_dict"
   ]
  },
  {
   "cell_type": "code",
   "execution_count": 5,
   "metadata": {},
   "outputs": [
    {
     "data": {
      "image/png": "[encoded data removed]",
      "text/plain": [
       "<Figure size 432x288 with 1 Axes>"
      ]
     },
     "metadata": {
      "needs_background": "light"
     },
     "output_type": "display_data"
    }
   ],
   "source": [
    "# develop the bar container and assign the arguments for plt.bar() \n",
    "ax = plt.subplot(1,1,1) # create a subplot for the legend to be inserted next to the bar plot.\n",
    "ind = np.arange(len(df.columns)-1) # Array containing x locations for each bar\n",
    "width = 0.4  # the width of the bars\n",
    "\n",
    "colors = ['greenyellow', 'limegreen','green','lightskyblue','dodgerblue','blue'] # list of specific colors for each phenotype\n",
    "\n",
    "bar_stacks = pd.Series(0,index = ['gene1','gene2','gene3','gene4','gene5']) # empty Pandas series where the previous bar values are summed, stacking each phenotype (bar) on top of the previous.\n",
    "bar_containers = [] # list containing the bars that create each genes information\n",
    "\n",
    "for (key,i) in zip(genes_dict, range(len(colors))):\n",
    "    bar_containers += plt.bar(ind, genes_dict[key], width, bottom = bar_stacks, color = colors[i] )\n",
    "    bar_stacks = bar_stacks.add(genes_dict[key])\n",
    "    \n",
    "# label axes and legend\n",
    "plt.title('oncogene spindle \\n phenotype distributions', size = 20)\n",
    "plt.ylabel('% of cells', size = 10)\n",
    "plt.xticks(ind, ('PURO', 'HRAS', 'MYC', 'CYCD', 'AURKB'), size = 10)\n",
    "plt.yticks(np.arange(0, 110, 10), size = 10)\n",
    "\n",
    "box = ax.get_position()\n",
    "ax.set_position([box.x0, box.y0, box.width * 0.8, box.height])\n",
    "\n",
    "ax.legend(df.iloc[:,0],\n",
    "         bbox_to_anchor=(1, 0.5),loc=2, borderaxespad=0.,\n",
    "         prop={'size': 10})\n",
    "\n",
    "plt.show() \n"
   ]
  }
 ],
 "metadata": {
  "kernelspec": {
   "display_name": "Python 3",
   "language": "python",
   "name": "python3"
  },
  "language_info": {
   "codemirror_mode": {
    "name": "ipython",
    "version": 3
   },
   "file_extension": ".py",
   "mimetype": "text/x-python",
   "name": "python",
   "nbconvert_exporter": "python",
   "pygments_lexer": "ipython3",
   "version": "3.6.8"
  }
 },
 "nbformat": 4,
 "nbformat_minor": 2
}
